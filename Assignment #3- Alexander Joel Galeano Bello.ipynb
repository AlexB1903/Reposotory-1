{
 "cells": [
  {
   "cell_type": "markdown",
   "id": "c4f1e91a",
   "metadata": {},
   "source": [
    "# Assignment #3\n",
    "## Alexander Joel Galeano Bello\n",
    "### 25/02/2023"
   ]
  },
  {
   "cell_type": "markdown",
   "id": "ba65bfea",
   "metadata": {},
   "source": [
    "# Exercise 1"
   ]
  },
  {
   "cell_type": "code",
   "execution_count": 105,
   "id": "0ca27f5a",
   "metadata": {},
   "outputs": [
    {
     "name": "stdout",
     "output_type": "stream",
     "text": [
      "30\n"
     ]
    }
   ],
   "source": [
    "product = lambda e,v: e * v\n",
    "e = 5\n",
    "v = 6\n",
    "result = product(e,v)\n",
    "print(result)\n",
    "\n"
   ]
  },
  {
   "cell_type": "markdown",
   "id": "c3bbb88b",
   "metadata": {},
   "source": [
    "# Exercise 2\n"
   ]
  },
  {
   "cell_type": "code",
   "execution_count": null,
   "id": "5aa24d62",
   "metadata": {},
   "outputs": [],
   "source": [
    "import math \n",
    "def form_of_area_of_circle(radius):\n",
    "    area=math.pi * radius**2\n",
    "    return area\n",
    "\n",
    "radius = 10\n",
    "area = form_of_area_of_circle(radius)\n",
    "print(area)"
   ]
  },
  {
   "cell_type": "markdown",
   "id": "34695c79",
   "metadata": {},
   "source": [
    "# Exercise 3"
   ]
  },
  {
   "cell_type": "code",
   "execution_count": 98,
   "id": "c7eacf30",
   "metadata": {},
   "outputs": [
    {
     "name": "stdout",
     "output_type": "stream",
     "text": [
      "The area of the rectangle with the given information is: 50\n"
     ]
    }
   ],
   "source": [
    "class Rectangle:\n",
    "    def __init__(self, length, width):\n",
    "        self.length = length\n",
    "        self.width = width\n",
    "    \n",
    "    def area(self): \n",
    "        return self.length * self.width\n",
    "\n",
    "r = Rectangle(5, 10)\n",
    "n = r.area()\n",
    "print(f\"The area of the rectangle with the given information is: {n}\")\n"
   ]
  },
  {
   "cell_type": "markdown",
   "id": "d00164b2",
   "metadata": {},
   "source": [
    "# Exercise 4"
   ]
  },
  {
   "cell_type": "code",
   "execution_count": 102,
   "id": "05f5ca29",
   "metadata": {},
   "outputs": [
    {
     "name": "stdout",
     "output_type": "stream",
     "text": [
      "d value is Incorrect\n",
      "None\n"
     ]
    }
   ],
   "source": [
    "def calc (number1, number2, d):\n",
    "    if d == 'tr1':\n",
    "        outcome == number1 - number2\n",
    "    elif d == 'tr2':\n",
    "        outcome = number1 + number2\n",
    "    elif d == 'tr3':\n",
    "         outcome = number1 / number2\n",
    "    elif d == 'tr4':\n",
    "        outcome == number1 * number2 \n",
    "    else:\n",
    "        print(\"d value is Incorrect\")\n",
    "        return None\n",
    "    return outcome  \n",
    "\n",
    "outcome = calc (2,5,'d')\n",
    "print(outcome)"
   ]
  },
  {
   "cell_type": "markdown",
   "id": "f36103d3",
   "metadata": {},
   "source": [
    "# Exercise 5"
   ]
  },
  {
   "cell_type": "code",
   "execution_count": 103,
   "id": "6e560194",
   "metadata": {},
   "outputs": [
    {
     "name": "stdout",
     "output_type": "stream",
     "text": [
      "The area is: 25\n",
      "An squares with side length 5.\n"
     ]
    }
   ],
   "source": [
    "class Square:\n",
    "    def __init__(SF, LG):  #SF stands for: self      #LG stands for the length   #a stands for the area    #ds stands for the descriptio\n",
    "        SF.length = LG\n",
    "        \n",
    "    def a(SF):\n",
    "        return SF.length**2\n",
    "    \n",
    "    def ds(SF):\n",
    "        print(f\"An squares with side length {SF.length}.\")\n",
    "        \n",
    "v = Square(5)\n",
    "print(f\"The area is: {v.a()}\")\n",
    "v.ds()  \n"
   ]
  },
  {
   "cell_type": "code",
   "execution_count": null,
   "id": "49428e88",
   "metadata": {},
   "outputs": [],
   "source": []
  }
 ],
 "metadata": {
  "kernelspec": {
   "display_name": "Python 3 (ipykernel)",
   "language": "python",
   "name": "python3"
  },
  "language_info": {
   "codemirror_mode": {
    "name": "ipython",
    "version": 3
   },
   "file_extension": ".py",
   "mimetype": "text/x-python",
   "name": "python",
   "nbconvert_exporter": "python",
   "pygments_lexer": "ipython3",
   "version": "3.9.13"
  }
 },
 "nbformat": 4,
 "nbformat_minor": 5
}
